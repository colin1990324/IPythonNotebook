{
 "cells": [
  {
   "cell_type": "markdown",
   "metadata": {},
   "source": [
    "The problem is, given a set of edges(node, node), seperate all subgraphs that are isolated from each other. Isolation of two graphs Gx and Gy is defined as every node Xi in Gx has no edge(or path) to every node Yi in Gy."
   ]
  },
  {
   "cell_type": "code",
   "execution_count": 78,
   "metadata": {
    "collapsed": false
   },
   "outputs": [],
   "source": [
    "data = [[1,2],[2,3],[3,4],[5,6],[6,7]] # expect 2 subgraph of {1,2,3,4} and {5,6,7}"
   ]
  },
  {
   "cell_type": "code",
   "execution_count": 79,
   "metadata": {
    "collapsed": false
   },
   "outputs": [],
   "source": [
    "# original thought, construct a set of nodes of a subgraph, \n",
    "# a new node is added to the set if it can connect to any node in the set\n",
    "def getSubgraphs(data):\n",
    "    rstList = []\n",
    "    for row in data:\n",
    "        connect = False\n",
    "        for s in rstList:\n",
    "            if row[0] in s or row[1] in s:\n",
    "                s.update(row)\n",
    "                connect = True\n",
    "                break\n",
    "        if not connect:\n",
    "            rstList.append(set(row))\n",
    "    return rstList"
   ]
  },
  {
   "cell_type": "code",
   "execution_count": 80,
   "metadata": {
    "collapsed": false
   },
   "outputs": [
    {
     "name": "stdout",
     "output_type": "stream",
     "text": [
      "[set([1, 2, 3, 4]), set([5, 6, 7])]\n"
     ]
    }
   ],
   "source": [
    "rstList = getSubgraphs(data)\n",
    "print rstList"
   ]
  },
  {
   "cell_type": "code",
   "execution_count": 81,
   "metadata": {
    "collapsed": true
   },
   "outputs": [],
   "source": [
    "data.append([4,5]) # this edge should connect two subgraph"
   ]
  },
  {
   "cell_type": "code",
   "execution_count": 82,
   "metadata": {
    "collapsed": false
   },
   "outputs": [
    {
     "name": "stdout",
     "output_type": "stream",
     "text": [
      "[set([1, 2, 3, 4, 5]), set([5, 6, 7])]\n"
     ]
    }
   ],
   "source": [
    "rstList = getSubgraphs(data)\n",
    "print rstList"
   ]
  },
  {
   "cell_type": "markdown",
   "metadata": {},
   "source": [
    "Not as expected, need to correct\n",
    "\n",
    "Check every pair of sets to see if they have any intersection"
   ]
  },
  {
   "cell_type": "code",
   "execution_count": 85,
   "metadata": {
    "collapsed": true
   },
   "outputs": [],
   "source": [
    "import itertools\n",
    "def combineSet(rstList):\n",
    "    for a,b in itertools.product(rstList, repeat=2):\n",
    "        if a<>b and len(a&b) > 0:\n",
    "            rstList.remove(a)\n",
    "            rstList.remove(b)\n",
    "            rstList.append(a|b)\n",
    "            break"
   ]
  },
  {
   "cell_type": "code",
   "execution_count": 86,
   "metadata": {
    "collapsed": false
   },
   "outputs": [
    {
     "name": "stdout",
     "output_type": "stream",
     "text": [
      "[set([1, 2, 3, 4, 5, 6, 7])]\n"
     ]
    }
   ],
   "source": [
    "# iterate to combine sets till length of list don't change\n",
    "while True:\n",
    "    length = len(rstList)\n",
    "    combineSet(rstList)\n",
    "    if length==len(rstList):\n",
    "        break\n",
    "print rstList"
   ]
  },
  {
   "cell_type": "code",
   "execution_count": null,
   "metadata": {
    "collapsed": true
   },
   "outputs": [],
   "source": []
  }
 ],
 "metadata": {
  "kernelspec": {
   "display_name": "Python 2",
   "language": "python",
   "name": "python2"
  },
  "language_info": {
   "codemirror_mode": {
    "name": "ipython",
    "version": 2
   },
   "file_extension": ".py",
   "mimetype": "text/x-python",
   "name": "python",
   "nbconvert_exporter": "python",
   "pygments_lexer": "ipython2",
   "version": "2.7.10"
  }
 },
 "nbformat": 4,
 "nbformat_minor": 0
}
