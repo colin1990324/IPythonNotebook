{
 "cells": [
  {
   "cell_type": "code",
   "execution_count": 1,
   "metadata": {
    "collapsed": false
   },
   "outputs": [],
   "source": [
    "import numpy as np\n",
    "import matplotlib.pyplot as plt\n",
    "%matplotlib inline\n",
    "from sklearn.ensemble import IsolationForest\n",
    "from sklearn.metrics import roc_curve, auc\n",
    "from sklearn.datasets import load_kddcup99, load_shuttle, fetch_covtype\n",
    "from sklearn.preprocessing import LabelBinarizer\n",
    "import logging\n",
    "logging.basicConfig()"
   ]
  },
  {
   "cell_type": "code",
   "execution_count": 2,
   "metadata": {
    "collapsed": false
   },
   "outputs": [],
   "source": [
    "np.random.seed(1)"
   ]
  },
  {
   "cell_type": "code",
   "execution_count": 3,
   "metadata": {
    "collapsed": false,
    "scrolled": true
   },
   "outputs": [
    {
     "name": "stdout",
     "output_type": "stream",
     "text": [
      "['8', '17', '546.0', '2', '0']\n",
      "['8', '17', '542.0', '2', '0']\n",
      "['8', '17', '546.0', '2', '0']\n",
      "['8', '17', '536.0', '2', '0']\n",
      "['8', '17', '553.0', '2', '0']\n",
      "['8', '17', '545.0', '2', '0']\n",
      "['8', '17', '547.0', '2', '0']\n",
      "['8', '17', '534.0', '2', '0']\n",
      "['8', '17', '537.0', '2', '0']\n",
      "['8', '17', '549.0', '2', '0']\n",
      "['8', '17', '562.0', '2', '0']\n",
      "['8', '17', '541.0', '2', '0']\n",
      "['8', '17', '542.0', '2', '0']\n",
      "['8', '17', '548.0', '2', '0']\n",
      "['8', '17', '547.0', '2', '0']\n",
      "['8', '17', '548.0', '2', '0']\n",
      "['8', '17', '529.0', '2', '0']\n",
      "['8', '17', '529.0', '2', '0']\n",
      "['8', '17', '540.0', '2', '0']\n",
      "['8', '17', '565.0', '2', '0']\n",
      "['8', '17', '551.0', '2', '0']\n",
      "['8', '17', '557.0', '2', '0']\n",
      "['8', '17', '550.0', '2', '0']\n",
      "['8', '18', '557.0', '2', '0']\n",
      "['8', '17', '545.0', '2', '0']\n",
      "['8', '17', '554.0', '2', '0']\n",
      "['8', '17', '531.0', '2', '0']\n",
      "['8', '17', '549.0', '2', '0']\n",
      "['8', '17', '549.0', '2', '0']\n",
      "['8', '17', '563.0', '2', '0']\n",
      "['8', '17', '557.0', '2', '0']\n",
      "['8', '17', '553.0', '2', '0']\n",
      "['8', '17', '555.0', '2', '0']\n",
      "['8', '17', '539.0', '2', '0']\n",
      "['8', '17', '549.0', '2', '0']\n",
      "['8', '17', '557.0', '2', '0']\n",
      "['8', '17', '531.0', '2', '0']\n",
      "['8', '17', '545.0', '2', '0']\n",
      "['8', '17', '535.0', '2', '0']\n",
      "['8', '17', '549.0', '2', '0']\n",
      "['8', '17', '533.0', '2', '0']\n",
      "['8', '17', '546.0', '2', '0']\n",
      "['8', '17', '545.0', '2', '0']\n",
      "['8', '17', '544.0', '2', '0']\n",
      "['8', '17', '548.0', '2', '0']\n",
      "['8', '17', '562.0', '2', '0']\n",
      "['8', '17', '544.0', '2', '0']\n",
      "['8', '17', '549.0', '2', '0']\n",
      "['8', '17', '538.0', '2', '0']\n",
      "['8', '17', '534.0', '2', '0']\n",
      "['8', '17', '553.0', '2', '0']\n",
      "['8', '17', '556.0', '2', '0']\n",
      "['8', '17', '532.0', '2', '0']\n",
      "['8', '17', '539.0', '2', '0']\n",
      "['8', '18', '551.0', '2', '0']\n",
      "['8', '17', '545.0', '2', '0']\n",
      "['8', '17', '533.0', '2', '0']\n",
      "['8', '17', '547.0', '2', '0']\n",
      "['8', '17', '535.0', '2', '0']\n",
      "['8', '17', '539.0', '2', '0']\n",
      "['8', '17', '530.0', '2', '0']\n",
      "['8', '17', '532.0', '2', '0']\n",
      "['8', '17', '544.0', '2', '0']\n",
      "['8', '17', '537.0', '2', '0']\n",
      "['8', '17', '540.0', '2', '0']\n",
      "['8', '17', '541.0', '2', '0']\n",
      "['8', '17', '561.0', '2', '0']\n",
      "['8', '17', '547.0', '2', '0']\n",
      "['8', '17', '548.0', '2', '0']\n",
      "['8', '17', '547.0', '2', '0']\n",
      "['8', '17', '555.0', '2', '0']\n",
      "['8', '17', '546.0', '2', '0']\n",
      "['8', '17', '549.0', '2', '0']\n",
      "['8', '17', '543.0', '2', '0']\n",
      "['8', '17', '545.0', '2', '0']\n",
      "['8', '17', '547.0', '2', '0']\n",
      "['8', '17', '553.0', '2', '0']\n",
      "['8', '17', '538.0', '2', '0']\n",
      "['8', '17', '534.0', '2', '0']\n",
      "['8', '17', '549.0', '2', '0']\n",
      "['8', '17', '532.0', '2', '0']\n",
      "['8', '17', '564.0', '2', '0']\n",
      "['8', '17', '549.0', '2', '0']\n",
      "['8', '17', '543.0', '2', '0']\n",
      "['8', '17', '542.0', '2', '0']\n",
      "['8', '17', '564.0', '2', '0']\n",
      "['8', '17', '539.0', '2', '0']\n",
      "['8', '17', '562.0', '2', '0']\n",
      "['8', '17', '546.0', '2', '0']\n",
      "['8', '17', '538.0', '2', '0']\n",
      "['8', '17', '550.0', '2', '0']\n",
      "['8', '17', '534.0', '2', '0']\n",
      "['8', '17', '542.0', '2', '0']\n",
      "['8', '17', '536.0', '2', '0']\n",
      "['8', '17', '535.0', '2', '0']\n",
      "['8', '18', '554.0', '2', '0']\n",
      "['8', '18', '558.0', '2', '0']\n",
      "['8', '17', '546.0', '2', '0']\n",
      "['8', '17', '543.0', '2', '0']\n",
      "['8', '17', '566.0', '2', '0']\n",
      "['8', '17', '560.0', '2', '0']\n",
      "['8', '17', '543.0', '2', '0']\n",
      "['8', '17', '553.0', '2', '0']\n",
      "['8', '17', '551.0', '2', '0']\n",
      "['8', '17', '534.0', '2', '0']\n",
      "['8', '17', '542.0', '2', '0']\n",
      "['8', '17', '542.0', '2', '0']\n",
      "['8', '17', '553.0', '2', '0']\n",
      "['8', '18', '569.0', '2', '0']\n",
      "['8', '17', '549.0', '2', '0']\n",
      "['8', '17', '545.0', '2', '0']\n",
      "['8', '17', '540.0', '2', '0']\n",
      "['8', '17', '532.0', '2', '0']\n",
      "['8', '17', '540.0', '2', '0']\n",
      "['8', '17', '541.0', '2', '0']\n",
      "['8', '17', '550.0', '2', '0']\n",
      "['8', '17', '554.0', '2', '0']\n",
      "['8', '17', '531.0', '2', '0']\n",
      "['8', '17', '539.0', '2', '0']\n",
      "['8', '17', '534.0', '2', '0']\n",
      "['8', '17', '545.0', '2', '0']\n",
      "['8', '17', '545.0', '2', '0']\n",
      "['8', '17', '541.0', '2', '0']\n",
      "['8', '17', '545.0', '2', '0']\n",
      "['8', '17', '558.0', '2', '0']\n",
      "['8', '17', '567.0', '2', '0']\n",
      "['1', '17', '994.0', '4', '0']\n",
      "['8', '0', '944.0', '4', '0']\n",
      "['8', '17', '545.0', '2', '0']\n",
      "['8', '17', '547.0', '2', '0']\n",
      "['6', '17', '689.0', '4', '0']\n",
      "['0', '17', '1017.0', '4', '0']\n",
      "['8', '17', '545.0', '2', '0']\n",
      "['8', '17', '544.0', '2', '0']\n",
      "['1', '18', '977.0', '4', '0']\n",
      "['8', '17', '535.0', '2', '0']\n",
      "['3', '17', '845.0', '4', '0']\n",
      "['8', '17', '539.0', '2', '0']\n",
      "['8', '17', '545.0', '2', '0']\n",
      "['8', '17', '535.0', '2', '0']\n",
      "['8', '17', '539.0', '2', '0']\n",
      "['8', '17', '532.0', '2', '0']\n",
      "['8', '17', '538.0', '2', '0']\n",
      "['8', '17', '544.0', '2', '0']\n",
      "['8', '17', '542.0', '2', '0']\n",
      "['8', '17', '530.0', '2', '0']\n"
     ]
    },
    {
     "data": {
      "text/plain": [
       "<function close>"
      ]
     },
     "execution_count": 3,
     "metadata": {},
     "output_type": "execute_result"
    }
   ],
   "source": [
    "logfile = open('logon.vector.csv', 'r')\n",
    "X = []\n",
    "while 1:\n",
    "    logline = logfile.readline().replace('\\n', '').replace(' ', '')\n",
    "    if logline == \"\":\n",
    "        break\n",
    "    records = logline.split(\",\")\n",
    "    print records\n",
    "    X.append(records)\n",
    "logfile.close"
   ]
  },
  {
   "cell_type": "code",
   "execution_count": 4,
   "metadata": {
    "collapsed": true
   },
   "outputs": [],
   "source": [
    "y = [0,0,0,0,0,0,0,0,0,0,0,0,0,0,0,0,0,0,0,0,0,0,0,0,0,0,0,0,0,0,0,0,0,0,0,0,0,0,0,0,0,0,0,0,0,0,0,0,0,0,0,0,0,0,0,0,0,0,0,0,0,0,0,0,0,0,0,0,0,0,0,0,0,0,0,0,0,0,0,0,0,0,0,0,0,0,0,0,0,0,0,0,0,0,0,0,0,0,0,0,0,0,0,0,0,0,0,0,0,0,0,0,0,0,0,0,0,0,0,0,0,0,0,0,0,0,1,1,0,0,1,1,0,0,1,0,1,0,0,0,0,0,0,0,0,0]"
   ]
  },
  {
   "cell_type": "code",
   "execution_count": 5,
   "metadata": {
    "collapsed": true
   },
   "outputs": [],
   "source": [
    "n_samples, n_features = np.shape(X)\n",
    "n_samples_train = n_samples // 2\n",
    "n_samples_test = n_samples - n_samples_train"
   ]
  },
  {
   "cell_type": "code",
   "execution_count": 6,
   "metadata": {
    "collapsed": false
   },
   "outputs": [
    {
     "data": {
      "text/plain": [
       "(146, 5)"
      ]
     },
     "execution_count": 6,
     "metadata": {},
     "output_type": "execute_result"
    }
   ],
   "source": [
    "n_samples, n_features"
   ]
  },
  {
   "cell_type": "code",
   "execution_count": 7,
   "metadata": {
    "collapsed": false
   },
   "outputs": [],
   "source": [
    "X_train = X[:n_samples_train]\n",
    "X_test = X[n_samples_test:]\n",
    "y_train = y[:n_samples_train]\n",
    "y_test = y[n_samples_test:]"
   ]
  },
  {
   "cell_type": "code",
   "execution_count": 8,
   "metadata": {
    "collapsed": false
   },
   "outputs": [
    {
     "data": {
      "text/plain": [
       "(73, 5)"
      ]
     },
     "execution_count": 8,
     "metadata": {},
     "output_type": "execute_result"
    }
   ],
   "source": [
    "np.shape(X_train)"
   ]
  },
  {
   "cell_type": "code",
   "execution_count": 9,
   "metadata": {
    "collapsed": false
   },
   "outputs": [
    {
     "data": {
      "text/plain": [
       "IsolationForest(bootstrap=True, max_features=1.0, max_samples=73,\n",
       "        n_estimators=100, n_jobs=-1, random_state=None, verbose=0)"
      ]
     },
     "execution_count": 9,
     "metadata": {},
     "output_type": "execute_result"
    }
   ],
   "source": [
    "model = IsolationForest(bootstrap=True, n_jobs=-1, max_features=1.0, max_samples=73)\n",
    "model.fit(X_train)"
   ]
  },
  {
   "cell_type": "code",
   "execution_count": 10,
   "metadata": {
    "collapsed": true
   },
   "outputs": [],
   "source": [
    "scoring = model.predict(X_test)"
   ]
  },
  {
   "cell_type": "code",
   "execution_count": 11,
   "metadata": {
    "collapsed": false
   },
   "outputs": [
    {
     "data": {
      "text/plain": [
       "array([ 0.49246849,  0.44512903,  0.43564508,  0.49999421,  0.52659485,\n",
       "        0.51446993,  0.43343738,  0.53479551,  0.67810709,  0.43343738,\n",
       "        0.49246849,  0.50110995,  0.67810709,  0.48532764,  0.61172115,\n",
       "        0.44516757,  0.52659485,  0.50761265,  0.51446993,  0.50110995,\n",
       "        0.52178977,  0.51287671,  0.78219046,  0.78134033,  0.44516757,\n",
       "        0.49246849,  0.7046094 ,  0.59958613,  0.49246849,  0.49999421,\n",
       "        0.52981594,  0.51446993,  0.50110995,  0.50110995,  0.49999421,\n",
       "        0.82566465,  0.43343738,  0.44512903,  0.48907257,  0.53479551,\n",
       "        0.48907257,  0.49057404,  0.50761265,  0.53383441,  0.56649368,\n",
       "        0.48532764,  0.51446993,  0.44512903,  0.44512903,  0.49057404,\n",
       "        0.44512903,  0.55757769,  0.7046094 ,  0.7046094 ,  0.7046094 ,\n",
       "        0.44512903,  0.43564508,  0.7046094 ,  0.7046094 ,  0.44512903,\n",
       "        0.48311385,  0.82566465,  0.51287671,  0.7046094 ,  0.48532764,\n",
       "        0.44512903,  0.51287671,  0.48532764,  0.53479551,  0.52659485,\n",
       "        0.48311385,  0.50110995,  0.60463583])"
      ]
     },
     "execution_count": 11,
     "metadata": {},
     "output_type": "execute_result"
    }
   ],
   "source": [
    "scoring"
   ]
  },
  {
   "cell_type": "code",
   "execution_count": 15,
   "metadata": {
    "collapsed": false
   },
   "outputs": [
    {
     "name": "stdout",
     "output_type": "stream",
     "text": [
      "1 0.704609397344 ['1', '17', '994.0', '4', '0']\n",
      "1 0.704609397344 ['8', '0', '944.0', '4', '0']\n",
      "1 0.704609397344 ['6', '17', '689.0', '4', '0']\n",
      "1 0.704609397344 ['0', '17', '1017.0', '4', '0']\n",
      "1 0.825664649823 ['1', '18', '977.0', '4', '0']\n",
      "1 0.704609397344 ['3', '17', '845.0', '4', '0']\n"
     ]
    }
   ],
   "source": [
    "for x, y, z in zip(X_test,y_test,scoring):\n",
    "    if y == 1:\n",
    "        print y,z,x"
   ]
  },
  {
   "cell_type": "code",
   "execution_count": 16,
   "metadata": {
    "collapsed": false
   },
   "outputs": [
    {
     "name": "stdout",
     "output_type": "stream",
     "text": [
      "0 0.782190462846 ['8', '18', '554.0', '2', '0']\n",
      "0 0.781340328606 ['8', '18', '558.0', '2', '0']\n",
      "0 0.704609397344 ['8', '17', '566.0', '2', '0']\n",
      "0 0.825664649823 ['8', '18', '569.0', '2', '0']\n",
      "0 0.704609397344 ['8', '17', '567.0', '2', '0']\n",
      "1 0.704609397344 ['1', '17', '994.0', '4', '0']\n",
      "1 0.704609397344 ['8', '0', '944.0', '4', '0']\n",
      "1 0.704609397344 ['6', '17', '689.0', '4', '0']\n",
      "1 0.704609397344 ['0', '17', '1017.0', '4', '0']\n",
      "1 0.825664649823 ['1', '18', '977.0', '4', '0']\n",
      "1 0.704609397344 ['3', '17', '845.0', '4', '0']\n"
     ]
    }
   ],
   "source": [
    "for x, y, z in zip(X_test,y_test,scoring):\n",
    "    if z > 0.7:\n",
    "        print y,z,x"
   ]
  },
  {
   "cell_type": "markdown",
   "metadata": {},
   "source": [
    "The this algorithm can find out all true positives but output some false positives."
   ]
  },
  {
   "cell_type": "code",
   "execution_count": 12,
   "metadata": {
    "collapsed": false
   },
   "outputs": [
    {
     "data": {
      "image/png": "[encoded data removed]",
      "text/plain": [
       "<matplotlib.figure.Figure at 0x11335b250>"
      ]
     },
     "metadata": {},
     "output_type": "display_data"
    }
   ],
   "source": [
    "fpr, tpr, thresholds = roc_curve(y_test, scoring)\n",
    "AUC = auc(fpr, tpr)\n",
    "plt.plot(fpr, tpr, lw=1, label='ROC for %s (area = %0.3f)' % ('logon', AUC))\n",
    "plt.xlim([-0.05, 1.05])\n",
    "plt.ylim([-0.05, 1.05])\n",
    "plt.xlabel('False Positive Rate')\n",
    "plt.ylabel('True Positive Rate')\n",
    "plt.title('Receiver operating characteristic')\n",
    "plt.legend(loc=\"lower right\")\n",
    "plt.show()"
   ]
  },
  {
   "cell_type": "code",
   "execution_count": null,
   "metadata": {
    "collapsed": true
   },
   "outputs": [],
   "source": []
  }
 ],
 "metadata": {
  "kernelspec": {
   "display_name": "Python 2",
   "language": "python",
   "name": "python2"
  },
  "language_info": {
   "codemirror_mode": {
    "name": "ipython",
    "version": 2
   },
   "file_extension": ".py",
   "mimetype": "text/x-python",
   "name": "python",
   "nbconvert_exporter": "python",
   "pygments_lexer": "ipython2",
   "version": "2.7.10"
  }
 },
 "nbformat": 4,
 "nbformat_minor": 0
}
