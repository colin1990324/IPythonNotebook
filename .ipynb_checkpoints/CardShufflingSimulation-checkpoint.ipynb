{
 "cells": [
  {
   "cell_type": "markdown",
   "metadata": {},
   "source": [
    "###要洗多少次牌，才能彻底洗开？3次都不够！\n",
    "[文章链接](http://www.guokr.com/article/23047/#rd)\n",
    "\n",
    "读一遍文章，觉得好有道理，有例子有引用。问题还比较有趣，准备写个程序做模拟，自动找出是那张牌被插到了中间。"
   ]
  },
  {
   "cell_type": "code",
   "execution_count": 14,
   "metadata": {
    "collapsed": false
   },
   "outputs": [
    {
     "name": "stdout",
     "output_type": "stream",
     "text": [
      "chunks test:  [0, 1, 2, 3, 4, 5, 6, 7, 8, 9]  to  [[0, 1, 2, 3], [4, 5, 6, 7], [8, 9]]\n",
      "randonChunks test:  [0, 1, 2, 3, 4, 5, 6, 7, 8, 9]  to  [[0, 1], [2], [3, 4], [5, 6], [7], [8], [9]]\n"
     ]
    }
   ],
   "source": [
    "# 两个会用到的小函数，主要用来分割\n",
    "import random\n",
    "def chunks(lst, n):\n",
    "    n = max(1, n)\n",
    "    return [lst[i:i + n] for i in range(0, len(lst), n)]\n",
    "\n",
    "def randonChunks(lst):\n",
    "    index = 0\n",
    "    rst_list = list()\n",
    "    while index < len(lst):\n",
    "        ran_num = random.randint(1,2)\n",
    "        rst_list.append(lst[index:index+ran_num])\n",
    "        index+=ran_num\n",
    "    return rst_list\n",
    "\n",
    "print \"chunks test: \", range(10), \" to \", chunks(range(10),4)\n",
    "print \"randonChunks test: \", range(10), \" to \", randonChunks(range(10))"
   ]
  },
  {
   "cell_type": "code",
   "execution_count": 15,
   "metadata": {
    "collapsed": false
   },
   "outputs": [
    {
     "name": "stdout",
     "output_type": "stream",
     "text": [
      "[1, 2, 3, 4, 5, 6, 7, 8, 9, 10]\n"
     ]
    }
   ],
   "source": [
    "# 新牌生成\n",
    "def createCards(number):\n",
    "    return range(1,number+1)\n",
    "print createCards(10)"
   ]
  },
  {
   "cell_type": "code",
   "execution_count": 16,
   "metadata": {
    "collapsed": false
   },
   "outputs": [
    {
     "name": "stdout",
     "output_type": "stream",
     "text": [
      "[10, 1, 2, 9, 6, 4, 8, 7, 3, 5]\n"
     ]
    }
   ],
   "source": [
    "# 随机洗牌\n",
    "def shuffle(lst):\n",
    "    random.shuffle(lst)\n",
    "lst = createCards(10)\n",
    "shuffle(lst)\n",
    "print lst"
   ]
  },
  {
   "cell_type": "code",
   "execution_count": 17,
   "metadata": {
    "collapsed": false
   },
   "outputs": [
    {
     "name": "stdout",
     "output_type": "stream",
     "text": [
      "[1, 2, 6, 3, 4, 7, 8, 5, 9, 10]\n"
     ]
    }
   ],
   "source": [
    "# 模拟手工洗牌\n",
    "def handShuffle(lst):\n",
    "    lists = chunks(lst,len(lst)/2)\n",
    "    while True:\n",
    "        chunks_one = randonChunks(lists[0])\n",
    "        chunks_two = randonChunks(lists[1])\n",
    "        if len(chunks_one) != len(chunks_two):\n",
    "            continue\n",
    "        merged = [None]*(len(chunks_one)+len(chunks_two))\n",
    "        merged[::2] = chunks_one\n",
    "        merged[1::2] = chunks_two\n",
    "        return sum(merged, [])\n",
    "print handShuffle(createCards(10))"
   ]
  },
  {
   "cell_type": "code",
   "execution_count": 18,
   "metadata": {
    "collapsed": false
   },
   "outputs": [
    {
     "name": "stdout",
     "output_type": "stream",
     "text": [
      "[1, 2, 10, 3, 4, 5, 6, 7, 8, 9]\n"
     ]
    }
   ],
   "source": [
    "# 把最后一张牌放到中间\n",
    "def insert(lst):\n",
    "    index = random.randint(1,len(lst)-2)\n",
    "    lst.insert(index,lst[-1])\n",
    "    del lst[-1]\n",
    "lst = createCards(10)\n",
    "insert(lst)\n",
    "print lst"
   ]
  },
  {
   "cell_type": "code",
   "execution_count": 19,
   "metadata": {
    "collapsed": false
   },
   "outputs": [],
   "source": [
    "# 用来找出四个升序序列\n",
    "listA = list()\n",
    "listB = list()\n",
    "listC = list()\n",
    "listD = list()\n",
    "rst = list()\n",
    "def iterator(lst, index):\n",
    "    if len(rst) >= 5:\n",
    "        return\n",
    "    if index == len(lst):\n",
    "        rst.append([list(listA), list(listB), list(listC), list(listD)])\n",
    "        return\n",
    "    if not listA or listA[-1]<lst[index]:\n",
    "        listA.append(lst[index])\n",
    "        iterator(lst,index+1)\n",
    "        del listA[-1]\n",
    "    if not listB or listB[-1]<lst[index]:\n",
    "        listB.append(lst[index])\n",
    "        iterator(lst,index+1)\n",
    "        del listB[-1]\n",
    "    if not listC or listC[-1]<lst[index]:\n",
    "        listC.append(lst[index])\n",
    "        iterator(lst,index+1)\n",
    "        del listC[-1]\n",
    "    if not listD or listD[-1]<lst[index]:\n",
    "        listD.append(lst[index])\n",
    "        iterator(lst,index+1)\n",
    "        del listD[-1]"
   ]
  },
  {
   "cell_type": "code",
   "execution_count": 20,
   "metadata": {
    "collapsed": false
   },
   "outputs": [
    {
     "name": "stdout",
     "output_type": "stream",
     "text": [
      "shuffle onece [1, 2, 6, 3, 7, 4, 8, 9, 5, 10]\n",
      "shuffle twice [1, 4, 2, 8, 9, 6, 3, 5, 7, 10]\n",
      "insert last to middle [1, 4, 2, 8, 9, 10, 6, 3, 5, 7]\n",
      "new split\n",
      "[[1, 4, 8, 9, 10], [2, 6, 7], [3, 5], []]\n",
      "[[1, 4, 8, 9, 10], [2, 6], [3, 5, 7], []]\n",
      "[[1, 4, 8, 9, 10], [2, 6], [3, 5], [7]]\n",
      "[[1, 4, 8, 9, 10], [2, 6, 7], [3], [5]]\n",
      "[[1, 4, 8, 9, 10], [2, 6], [3, 7], [5]]\n"
     ]
    }
   ],
   "source": [
    "# 随机测试\n",
    "# 先试试十张牌的情况\n",
    "lst = createCards(10)\n",
    "lst = handShuffle(lst)\n",
    "print \"shuffle onece\", lst\n",
    "lst = handShuffle(lst)\n",
    "print \"shuffle twice\", lst\n",
    "insert(lst)\n",
    "print \"insert last to middle\", lst\n",
    "listA = list()\n",
    "listB = list()\n",
    "listC = list()\n",
    "listD = list()\n",
    "rst = list()\n",
    "iterator(lst,0)\n",
    "if not rst:\n",
    "    print \"no new split!\"\n",
    "else:\n",
    "    print \"new split\"\n",
    "    for x in range(5):\n",
    "        print rst[x]"
   ]
  },
  {
   "cell_type": "code",
   "execution_count": 21,
   "metadata": {
    "collapsed": false
   },
   "outputs": [
    {
     "name": "stdout",
     "output_type": "stream",
     "text": [
      "new split\n",
      "[[1, 4, 8, 9, 12, 13], [5, 7, 10, 11], [2, 6], [3]]\n",
      "[[1, 4, 8, 9, 12, 13], [5, 7, 10], [2, 6, 11], [3]]\n",
      "[[1, 4, 8, 9, 12, 13], [5, 7, 10], [2, 6], [3, 11]]\n",
      "[[1, 4, 8, 9, 12], [5, 7, 10, 13], [2, 6, 11], [3]]\n",
      "[[1, 4, 8, 9, 12], [5, 7, 10, 13], [2, 6], [3, 11]]\n"
     ]
    }
   ],
   "source": [
    "# 文章中例子\n",
    "# 7本来在list最后\n",
    "lst = [1,4,8,5,2,9,7,12,10,6,3,13,11]\n",
    "listA = list()\n",
    "listB = list()\n",
    "listC = list()\n",
    "listD = list()\n",
    "rst = list()\n",
    "iterator(lst,0)\n",
    "if not rst:\n",
    "    print \"no new split!\"\n",
    "else:\n",
    "    print \"new split\"\n",
    "    for x in range(5):\n",
    "        print rst[x]"
   ]
  },
  {
   "cell_type": "code",
   "execution_count": 22,
   "metadata": {
    "collapsed": false
   },
   "outputs": [
    {
     "name": "stdout",
     "output_type": "stream",
     "text": [
      "shuffle onece [1, 2, 28, 3, 29, 4, 5, 30, 6, 7, 31, 32, 8, 33, 9, 34, 10, 35, 36, 11, 37, 12, 38, 39, 13, 40, 14, 41, 42, 15, 16, 43, 17, 44, 18, 45, 46, 19, 47, 20, 48, 49, 21, 22, 50, 23, 51, 24, 25, 52, 53, 26, 27, 54]\n",
      "shuffle twice [1, 41, 2, 42, 15, 28, 16, 3, 29, 43, 4, 5, 17, 44, 30, 18, 6, 45, 46, 7, 31, 19, 32, 47, 20, 8, 33, 48, 49, 9, 21, 34, 22, 50, 10, 35, 23, 36, 11, 51, 24, 37, 12, 25, 38, 39, 52, 53, 13, 26, 27, 40, 14, 54]\n",
      "insert last to middle [1, 41, 2, 42, 15, 28, 16, 3, 29, 43, 4, 5, 17, 44, 30, 18, 6, 45, 54, 46, 7, 31, 19, 32, 47, 20, 8, 33, 48, 49, 9, 21, 34, 22, 50, 10, 35, 23, 36, 11, 51, 24, 37, 12, 25, 38, 39, 52, 53, 13, 26, 27, 40, 14]\n",
      "no new split!\n"
     ]
    }
   ],
   "source": [
    "# 实际中54张牌\n",
    "lst = createCards(54)\n",
    "lst = handShuffle(lst)\n",
    "print \"shuffle onece\", lst\n",
    "lst = handShuffle(lst)\n",
    "print \"shuffle twice\", lst\n",
    "insert(lst)\n",
    "print \"insert last to middle\", lst\n",
    "listA = list()\n",
    "listB = list()\n",
    "listC = list()\n",
    "listD = list()\n",
    "rst = list()\n",
    "iterator(lst,0)\n",
    "if not rst:\n",
    "    print \"no new split!\"\n",
    "else:\n",
    "    print \"new split\"\n",
    "    for x in range(5):\n",
    "        print rst[x]"
   ]
  },
  {
   "cell_type": "markdown",
   "metadata": {},
   "source": [
    "手动做了20次试验，没有新分割和有新分割的次数分别是12和8。\n",
    "\n",
    "所以做到这里，目前的结论是，好多时候，都是存在四个升序子序列的分割的。。。"
   ]
  },
  {
   "cell_type": "code",
   "execution_count": 23,
   "metadata": {
    "collapsed": false
   },
   "outputs": [
    {
     "name": "stdout",
     "output_type": "stream",
     "text": [
      "shuffle onece [1, 28, 2, 29, 30, 3, 31, 4, 32, 5, 6, 33, 7, 34, 35, 8, 36, 37, 9, 10, 38, 39, 11, 40, 12, 41, 13, 42, 14, 15, 43, 16, 17, 44, 18, 19, 45, 46, 20, 47, 48, 21, 22, 49, 23, 24, 50, 25, 51, 52, 26, 27, 53, 54]\n",
      "shuffle twice [1, 42, 28, 2, 14, 15, 29, 30, 43, 3, 16, 17, 31, 44, 18, 4, 32, 19, 5, 6, 45, 46, 33, 7, 20, 34, 47, 35, 48, 8, 21, 36, 22, 37, 49, 23, 9, 10, 24, 38, 39, 50, 25, 11, 51, 52, 40, 26, 27, 12, 53, 41, 13, 54]\n",
      "insert last to middle [1, 42, 28, 2, 14, 15, 29, 30, 43, 3, 16, 17, 31, 44, 18, 4, 32, 19, 5, 6, 45, 46, 33, 7, 20, 54, 34, 47, 35, 48, 8, 21, 36, 22, 37, 49, 23, 9, 10, 24, 38, 39, 50, 25, 11, 51, 52, 40, 26, 27, 12, 53, 41, 13]\n",
      "possible number 54\n"
     ]
    }
   ],
   "source": [
    "# 试着找到是插入的哪个值\n",
    "lst = createCards(54)\n",
    "lst = handShuffle(lst)\n",
    "print \"shuffle onece\", lst\n",
    "lst = handShuffle(lst)\n",
    "print \"shuffle twice\", lst\n",
    "insert(lst)\n",
    "print \"insert last to middle\", lst\n",
    "listA = list()\n",
    "listB = list()\n",
    "listC = list()\n",
    "listD = list()\n",
    "rst = list()\n",
    "iterator(lst,0)\n",
    "if not rst:\n",
    "    for x in range(1,52):\n",
    "        new_list = list(lst)\n",
    "        new_list.append(new_list[x])\n",
    "        del new_list[x]\n",
    "        listA = list()\n",
    "        listB = list()\n",
    "        listC = list()\n",
    "        listD = list()\n",
    "        rst = list()\n",
    "        iterator(new_list,0)\n",
    "        if rst:\n",
    "            print \"possible number\", lst[x]\n",
    "        "
   ]
  },
  {
   "cell_type": "markdown",
   "metadata": {
    "collapsed": true
   },
   "source": [
    "简单暴力方法还是比较容易就找到了。\n",
    "\n",
    "文章中提到，1992 年，佩尔西·戴康尼斯（Persi Diaconis），与哥伦比亚大学的戴夫·拜耳（Dave Bayer）一道，为交叉洗牌法建立了一个数学模型，分析了包括上升序列在内的扑克牌排列性质，定义了 m 次洗牌后得到的排列分布与平均分布之间的“总变差距离”。他们计算出，当扑克牌有 52 张，洗牌次数分别为 1, 2, ..., 10 时，总变差距离分别为 1.000, 1.000, 1.000, 1.000, 0.924, 0.614, 0.334, 0.167, 0.085 和 0.043。\n",
    "\n",
    "这里我设计一个简单的评分。"
   ]
  },
  {
   "cell_type": "code",
   "execution_count": 34,
   "metadata": {
    "collapsed": false
   },
   "outputs": [
    {
     "name": "stdout",
     "output_type": "stream",
     "text": [
      "1.0\n"
     ]
    }
   ],
   "source": [
    "# 简单设计的评分\n",
    "# 只考虑相邻的值差\n",
    "def randomicity(lst):\n",
    "    sum=0\n",
    "    for i in xrange(len(lst)-1):\n",
    "        sum+=1/abs(float(lst[i]-lst[i+1]))\n",
    "    return sum/(len(lst)-1)\n",
    "print randomicity(createCards(10))"
   ]
  },
  {
   "cell_type": "code",
   "execution_count": 35,
   "metadata": {
    "collapsed": false
   },
   "outputs": [
    {
     "name": "stdout",
     "output_type": "stream",
     "text": [
      "[0.35512775062152124, 0.167265715161369, 0.1184150383695128, 0.11908684886092649, 0.1526286977075697, 0.1492491223723509, 0.145856069670773, 0.1408064794589601, 0.14030135669423088, 0.1396923193914652]\n"
     ]
    }
   ],
   "source": [
    "# 做100次试验，每次手洗10轮\n",
    "rst = [ [] for i in range(10) ]\n",
    "for i in range(100):\n",
    "    lst = createCards(52)\n",
    "    for j in range(10):\n",
    "        lst = handShuffle(lst)\n",
    "        rst[j].append(randomicity(lst))\n",
    "# 每轮的平均值\n",
    "print [sum(a)/len(a) for a in rst]"
   ]
  },
  {
   "cell_type": "code",
   "execution_count": 36,
   "metadata": {
    "collapsed": false
   },
   "outputs": [
    {
     "name": "stdout",
     "output_type": "stream",
     "text": [
      "1.0\n"
     ]
    }
   ],
   "source": [
    "# 稍微复杂一点的评分\n",
    "# 考虑两两值差，权重看距离\n",
    "def randomicityPairwise(lst):\n",
    "    sum=0\n",
    "    for i in xrange(len(lst)-1):\n",
    "        for j in xrange(i+1,len(lst)):\n",
    "            weight = 1 / float(j-i)\n",
    "            sum+=1/abs(float(lst[i]-lst[j]))*weight\n",
    "    return sum / 12.5\n",
    "print randomicity(createCards(10))"
   ]
  },
  {
   "cell_type": "code",
   "execution_count": 37,
   "metadata": {
    "collapsed": false
   },
   "outputs": [
    {
     "name": "stdout",
     "output_type": "stream",
     "text": [
      "[3.8794632328182264, 2.528143318950605, 1.974223578861072, 1.8778186573338171, 2.106129789512378, 2.1288480175338096, 2.0881733425255296, 2.0562646493806214, 2.0363195928398126, 2.047042504229979]\n"
     ]
    }
   ],
   "source": [
    "# 做100次试验，每次手洗10轮\n",
    "rst = [ [] for i in range(10) ]\n",
    "for i in range(100):\n",
    "    lst = createCards(52)\n",
    "    for j in range(10):\n",
    "        lst = handShuffle(lst)\n",
    "        rst[j].append(randomicityPairwise(lst))\n",
    "# 每轮的平均值\n",
    "print [sum(a)/len(a) for a in rst]"
   ]
  },
  {
   "cell_type": "markdown",
   "metadata": {},
   "source": [
    "结果在我这里，第二次洗牌之后就没大变化了。。。"
   ]
  },
  {
   "cell_type": "code",
   "execution_count": null,
   "metadata": {
    "collapsed": true
   },
   "outputs": [],
   "source": []
  }
 ],
 "metadata": {
  "kernelspec": {
   "display_name": "Python 2",
   "language": "python",
   "name": "python2"
  },
  "language_info": {
   "codemirror_mode": {
    "name": "ipython",
    "version": 2
   },
   "file_extension": ".py",
   "mimetype": "text/x-python",
   "name": "python",
   "nbconvert_exporter": "python",
   "pygments_lexer": "ipython2",
   "version": "2.7.10"
  }
 },
 "nbformat": 4,
 "nbformat_minor": 0
}
