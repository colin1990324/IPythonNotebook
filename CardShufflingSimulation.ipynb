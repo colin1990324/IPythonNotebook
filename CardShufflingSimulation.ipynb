{
 "cells": [
  {
   "cell_type": "markdown",
   "metadata": {},
   "source": [
    "###要洗多少次牌，才能彻底洗开？3次都不够！\n",
    "[文章链接](http://www.guokr.com/article/23047/#rd)\n",
    "\n",
    "读一遍文章，觉得好有道理，有例子有引用。问题还比较有趣，准备写个程序做模拟，自动找出是那张牌被插到了中间。"
   ]
  },
  {
   "cell_type": "code",
   "execution_count": 61,
   "metadata": {
    "collapsed": false
   },
   "outputs": [
    {
     "name": "stdout",
     "output_type": "stream",
     "text": [
      "chunks test:  [0, 1, 2, 3, 4, 5, 6, 7, 8, 9]  to  [[0, 1, 2, 3], [4, 5, 6, 7], [8, 9]]\n",
      "randonChunks test:  [0, 1, 2, 3, 4, 5, 6, 7, 8, 9]  to  [[0], [1], [2, 3], [4, 5], [6], [7], [8], [9]]\n"
     ]
    }
   ],
   "source": [
    "# 两个会用到的小函数，主要用来分割\n",
    "import random\n",
    "def chunks(lst, n):\n",
    "    n = max(1, n)\n",
    "    return [lst[i:i + n] for i in range(0, len(lst), n)]\n",
    "\n",
    "def randonChunks(lst):\n",
    "    index = 0\n",
    "    rst_list = list()\n",
    "    while index < len(lst):\n",
    "        ran_num = random.randint(1,2)\n",
    "        rst_list.append(lst[index:index+ran_num])\n",
    "        index+=ran_num\n",
    "    return rst_list\n",
    "\n",
    "print \"chunks test: \", range(10), \" to \", chunks(range(10),4)\n",
    "print \"randonChunks test: \", range(10), \" to \", randonChunks(range(10))"
   ]
  },
  {
   "cell_type": "code",
   "execution_count": 5,
   "metadata": {
    "collapsed": false
   },
   "outputs": [
    {
     "name": "stdout",
     "output_type": "stream",
     "text": [
      "[1, 2, 3, 4, 5, 6, 7, 8, 9, 10]\n"
     ]
    }
   ],
   "source": [
    "# 新牌生成\n",
    "def createCards(number):\n",
    "    return range(1,number+1)\n",
    "print createCards(10)"
   ]
  },
  {
   "cell_type": "code",
   "execution_count": 6,
   "metadata": {
    "collapsed": false
   },
   "outputs": [
    {
     "name": "stdout",
     "output_type": "stream",
     "text": [
      "1.0\n"
     ]
    }
   ],
   "source": [
    "# 简单设计的随机评分\n",
    "def randomicity(lst):\n",
    "    sum=0\n",
    "    for i in xrange(len(lst)-1):\n",
    "        sum+=1/abs(float(lst[i]-lst[i+1]))\n",
    "    return sum/(len(lst)-1)\n",
    "print randomicity(createCards(10))"
   ]
  },
  {
   "cell_type": "code",
   "execution_count": 7,
   "metadata": {
    "collapsed": false
   },
   "outputs": [
    {
     "name": "stdout",
     "output_type": "stream",
     "text": [
      "[3, 10, 2, 1, 5, 8, 7, 4, 9, 6]\n"
     ]
    }
   ],
   "source": [
    "# 随机洗牌\n",
    "def shuffle(lst):\n",
    "    random.shuffle(lst)\n",
    "lst = createCards(10)\n",
    "shuffle(lst)\n",
    "print lst"
   ]
  },
  {
   "cell_type": "code",
   "execution_count": 8,
   "metadata": {
    "collapsed": false
   },
   "outputs": [
    {
     "name": "stdout",
     "output_type": "stream",
     "text": [
      "[1, 2, 6, 7, 3, 4, 8, 9, 5, 10]\n"
     ]
    }
   ],
   "source": [
    "# 模拟手工洗牌\n",
    "def handShuffle(lst):\n",
    "    lists = chunks(lst,len(lst)/2)\n",
    "    while True:\n",
    "        chunks_one = randonChunks(lists[0])\n",
    "        chunks_two = randonChunks(lists[1])\n",
    "        if len(chunks_one) != len(chunks_two):\n",
    "            continue\n",
    "        merged = [None]*(len(chunks_one)+len(chunks_two))\n",
    "        merged[::2] = chunks_one\n",
    "        merged[1::2] = chunks_two\n",
    "        return sum(merged, [])\n",
    "print handShuffle(createCards(10))"
   ]
  },
  {
   "cell_type": "code",
   "execution_count": 82,
   "metadata": {
    "collapsed": false
   },
   "outputs": [
    {
     "name": "stdout",
     "output_type": "stream",
     "text": [
      "[1, 2, 10, 3, 4, 5, 6, 7, 8, 9]\n"
     ]
    }
   ],
   "source": [
    "# 把最后一张牌放到中间\n",
    "def insert(lst):\n",
    "    index = random.randint(1,len(lst)-2)\n",
    "    lst.insert(index,lst[-1])\n",
    "    del lst[-1]\n",
    "lst = createCards(10)\n",
    "insert(lst)\n",
    "print lst"
   ]
  },
  {
   "cell_type": "code",
   "execution_count": 84,
   "metadata": {
    "collapsed": false
   },
   "outputs": [],
   "source": [
    "# 用来找出四个升序序列\n",
    "listA = list()\n",
    "listB = list()\n",
    "listC = list()\n",
    "listD = list()\n",
    "rst = list()\n",
    "def iterator(lst, index):\n",
    "    if len(rst) >= 5:\n",
    "        return\n",
    "    if index == len(lst):\n",
    "        rst.append([list(listA), list(listB), list(listC), list(listD)])\n",
    "        return\n",
    "    if not listA or listA[-1]<lst[index]:\n",
    "        listA.append(lst[index])\n",
    "        iterator(lst,index+1)\n",
    "        del listA[-1]\n",
    "    if not listB or listB[-1]<lst[index]:\n",
    "        listB.append(lst[index])\n",
    "        iterator(lst,index+1)\n",
    "        del listB[-1]\n",
    "    if not listC or listC[-1]<lst[index]:\n",
    "        listC.append(lst[index])\n",
    "        iterator(lst,index+1)\n",
    "        del listC[-1]\n",
    "    if not listD or listD[-1]<lst[index]:\n",
    "        listD.append(lst[index])\n",
    "        iterator(lst,index+1)\n",
    "        del listD[-1]"
   ]
  },
  {
   "cell_type": "code",
   "execution_count": 57,
   "metadata": {
    "collapsed": false
   },
   "outputs": [
    {
     "name": "stdout",
     "output_type": "stream",
     "text": [
      "shuffle onece [1, 6, 7, 2, 3, 8, 4, 9, 5, 10]\n",
      "shuffle twice [1, 8, 4, 6, 7, 9, 2, 5, 3, 10]\n",
      "insert last to middle [1, 8, 4, 6, 10, 7, 9, 2, 5, 3]\n",
      "new split\n",
      "[[1, 8, 10], [4, 6, 7, 9], [2, 5], [3]]\n",
      "[[1, 8, 10], [4, 6, 7, 9], [2, 3], [5]]\n",
      "[[1, 8, 10], [4, 6, 7, 9], [5], [2, 3]]\n",
      "[[1, 8, 10], [4, 6, 7, 9], [3], [2, 5]]\n",
      "[[1, 8, 10], [4, 5], [6, 7, 9], [2, 3]]\n"
     ]
    }
   ],
   "source": [
    "# 随机测试\n",
    "# 先试试十张牌的情况\n",
    "lst = createCards(10)\n",
    "lst = handShuffle(lst)\n",
    "print \"shuffle onece\", lst\n",
    "lst = handShuffle(lst)\n",
    "print \"shuffle twice\", lst\n",
    "insert(lst)\n",
    "print \"insert last to middle\", lst\n",
    "listA = list()\n",
    "listB = list()\n",
    "listC = list()\n",
    "listD = list()\n",
    "rst = list()\n",
    "iterator(lst,0)\n",
    "if not rst:\n",
    "    print \"no new split!\"\n",
    "else:\n",
    "    print \"new split\"\n",
    "    for x in range(5):\n",
    "        print rst[x]"
   ]
  },
  {
   "cell_type": "code",
   "execution_count": 58,
   "metadata": {
    "collapsed": false
   },
   "outputs": [
    {
     "name": "stdout",
     "output_type": "stream",
     "text": [
      "new split\n",
      "[[1, 4, 8, 9, 12, 13], [5, 7, 10, 11], [2, 6], [3]]\n",
      "[[1, 4, 8, 9, 12, 13], [5, 7, 10], [2, 6, 11], [3]]\n",
      "[[1, 4, 8, 9, 12, 13], [5, 7, 10], [2, 6], [3, 11]]\n",
      "[[1, 4, 8, 9, 12], [5, 7, 10, 13], [2, 6, 11], [3]]\n",
      "[[1, 4, 8, 9, 12], [5, 7, 10, 13], [2, 6], [3, 11]]\n"
     ]
    }
   ],
   "source": [
    "# 文章中例子\n",
    "# 7本来在list最后\n",
    "lst = [1,4,8,5,2,9,7,12,10,6,3,13,11]\n",
    "listA = list()\n",
    "listB = list()\n",
    "listC = list()\n",
    "listD = list()\n",
    "rst = list()\n",
    "iterator(lst,0)\n",
    "if not rst:\n",
    "    print \"no new split!\"\n",
    "else:\n",
    "    print \"new split\"\n",
    "    for x in range(5):\n",
    "        print rst[x]"
   ]
  },
  {
   "cell_type": "code",
   "execution_count": 79,
   "metadata": {
    "collapsed": false
   },
   "outputs": [
    {
     "name": "stdout",
     "output_type": "stream",
     "text": [
      "shuffle onece [1, 28, 29, 2, 30, 3, 4, 31, 5, 6, 32, 7, 33, 34, 8, 35, 9, 36, 10, 37, 11, 38, 12, 39, 40, 13, 41, 42, 14, 43, 15, 44, 45, 16, 17, 46, 18, 19, 47, 20, 48, 49, 21, 22, 50, 23, 24, 51, 52, 25, 26, 53, 27, 54]\n",
      "shuffle twice [1, 28, 42, 29, 2, 14, 30, 43, 15, 3, 44, 45, 4, 31, 16, 17, 5, 46, 6, 18, 19, 32, 7, 47, 33, 20, 48, 34, 49, 8, 21, 22, 35, 9, 50, 36, 23, 10, 37, 24, 51, 11, 52, 38, 25, 26, 12, 39, 53, 40, 13, 27, 41, 54]\n",
      "insert last to middle [1, 28, 42, 29, 2, 14, 30, 43, 15, 3, 44, 45, 4, 31, 16, 17, 5, 46, 6, 18, 19, 32, 7, 47, 33, 20, 48, 34, 49, 8, 21, 22, 35, 9, 50, 36, 23, 10, 37, 24, 51, 11, 52, 38, 25, 26, 54, 12, 39, 53, 40, 13, 27, 41]\n",
      "new split\n",
      "[[1, 28, 42, 43, 44, 45, 46, 47, 48, 49, 50, 51, 52, 54], [29, 30, 31, 32, 33, 34, 35, 36, 37, 38, 39, 53], [2, 14, 15, 16, 17, 18, 19, 20, 21, 22, 23, 24, 25, 26, 40, 41], [3, 4, 5, 6, 7, 8, 9, 10, 11, 12, 13, 27]]\n",
      "[[1, 28, 42, 43, 44, 45, 46, 47, 48, 49, 50, 51, 52, 54], [29, 30, 31, 32, 33, 34, 35, 36, 37, 38, 39, 53], [2, 14, 15, 16, 17, 18, 19, 20, 21, 22, 23, 24, 25, 26, 40], [3, 4, 5, 6, 7, 8, 9, 10, 11, 12, 13, 27, 41]]\n",
      "[[1, 28, 42, 43, 44, 45, 46, 47, 48, 49, 50, 51, 52, 54], [29, 30, 31, 32, 33, 34, 35, 36, 37, 38, 39, 40, 41], [2, 14, 15, 16, 17, 18, 19, 20, 21, 22, 23, 24, 25, 26, 53], [3, 4, 5, 6, 7, 8, 9, 10, 11, 12, 13, 27]]\n",
      "[[1, 28, 42, 43, 44, 45, 46, 47, 48, 49, 50, 51, 52, 54], [29, 30, 31, 32, 33, 34, 35, 36, 37, 38, 39, 40], [2, 14, 15, 16, 17, 18, 19, 20, 21, 22, 23, 24, 25, 26, 53], [3, 4, 5, 6, 7, 8, 9, 10, 11, 12, 13, 27, 41]]\n",
      "[[1, 28, 42, 43, 44, 45, 46, 47, 48, 49, 50, 51, 52, 54], [29, 30, 31, 32, 33, 34, 35, 36, 37, 38, 53], [2, 14, 15, 16, 17, 18, 19, 20, 21, 22, 23, 24, 25, 26, 39, 40, 41], [3, 4, 5, 6, 7, 8, 9, 10, 11, 12, 13, 27]]\n"
     ]
    }
   ],
   "source": [
    "# 实际中54张牌\n",
    "lst = createCards(54)\n",
    "lst = handShuffle(lst)\n",
    "print \"shuffle onece\", lst\n",
    "lst = handShuffle(lst)\n",
    "print \"shuffle twice\", lst\n",
    "insert(lst)\n",
    "print \"insert last to middle\", lst\n",
    "listA = list()\n",
    "listB = list()\n",
    "listC = list()\n",
    "listD = list()\n",
    "rst = list()\n",
    "iterator(lst,0)\n",
    "if not rst:\n",
    "    print \"no new split!\"\n",
    "else:\n",
    "    print \"new split\"\n",
    "    for x in range(5):\n",
    "        print rst[x]"
   ]
  },
  {
   "cell_type": "markdown",
   "metadata": {},
   "source": [
    "手动做了20次试验，没有新分割和有新分割的次数分别是12和8。\n",
    "\n",
    "所以做到这里，目前的结论是，好多时候，都是存在四个升序子序列的分割的。。。"
   ]
  },
  {
   "cell_type": "code",
   "execution_count": 87,
   "metadata": {
    "collapsed": false
   },
   "outputs": [
    {
     "name": "stdout",
     "output_type": "stream",
     "text": [
      "shuffle onece [1, 28, 2, 3, 29, 30, 4, 31, 32, 5, 6, 33, 7, 34, 35, 8, 36, 37, 9, 38, 10, 11, 39, 12, 40, 13, 14, 41, 42, 15, 16, 43, 17, 44, 45, 18, 19, 46, 47, 20, 21, 48, 22, 49, 50, 23, 51, 24, 25, 52, 26, 53, 27, 54]\n",
      "shuffle twice [1, 41, 42, 28, 15, 16, 2, 3, 43, 29, 17, 30, 44, 4, 31, 45, 18, 32, 5, 19, 6, 33, 46, 47, 7, 20, 21, 34, 35, 48, 8, 36, 22, 49, 37, 50, 23, 9, 51, 24, 38, 10, 25, 11, 39, 52, 26, 12, 40, 53, 13, 14, 27, 54]\n",
      "insert last to middle [1, 41, 42, 28, 15, 16, 2, 3, 43, 29, 17, 30, 44, 4, 31, 45, 18, 32, 5, 19, 6, 33, 46, 47, 7, 20, 21, 34, 35, 48, 8, 36, 22, 54, 49, 37, 50, 23, 9, 51, 24, 38, 10, 25, 11, 39, 52, 26, 12, 40, 53, 13, 14, 27]\n",
      "possible number 54\n"
     ]
    }
   ],
   "source": [
    "# 试着找到是插入的哪个值\n",
    "lst = createCards(54)\n",
    "lst = handShuffle(lst)\n",
    "print \"shuffle onece\", lst\n",
    "lst = handShuffle(lst)\n",
    "print \"shuffle twice\", lst\n",
    "insert(lst)\n",
    "print \"insert last to middle\", lst\n",
    "listA = list()\n",
    "listB = list()\n",
    "listC = list()\n",
    "listD = list()\n",
    "rst = list()\n",
    "iterator(lst,0)\n",
    "if not rst:\n",
    "    for x in range(1,52):\n",
    "        new_list = list(lst)\n",
    "        new_list.append(new_list[x])\n",
    "        del new_list[x]\n",
    "        listA = list()\n",
    "        listB = list()\n",
    "        listC = list()\n",
    "        listD = list()\n",
    "        rst = list()\n",
    "        iterator(new_list,0)\n",
    "        if rst:\n",
    "            print \"possible number\", lst[x]\n",
    "        "
   ]
  },
  {
   "cell_type": "code",
   "execution_count": null,
   "metadata": {
    "collapsed": true
   },
   "outputs": [],
   "source": []
  }
 ],
 "metadata": {
  "kernelspec": {
   "display_name": "Python 2",
   "language": "python",
   "name": "python2"
  },
  "language_info": {
   "codemirror_mode": {
    "name": "ipython",
    "version": 2
   },
   "file_extension": ".py",
   "mimetype": "text/x-python",
   "name": "python",
   "nbconvert_exporter": "python",
   "pygments_lexer": "ipython2",
   "version": "2.7.10"
  }
 },
 "nbformat": 4,
 "nbformat_minor": 0
}
